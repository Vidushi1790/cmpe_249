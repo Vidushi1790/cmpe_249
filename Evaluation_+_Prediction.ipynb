{
  "nbformat": 4,
  "nbformat_minor": 0,
  "metadata": {
    "colab": {
      "name": "Evaluation + Prediction.ipynb",
      "provenance": [],
      "machine_shape": "hm"
    },
    "kernelspec": {
      "name": "python3",
      "display_name": "Python 3"
    },
    "language_info": {
      "name": "python"
    },
    "accelerator": "GPU",
    "widgets": {
      "application/vnd.jupyter.widget-state+json": {
        "d03cb8a1f2434907894e1ad470dbc964": {
          "model_module": "@jupyter-widgets/controls",
          "model_name": "HBoxModel",
          "state": {
            "_view_name": "HBoxView",
            "_dom_classes": [],
            "_model_name": "HBoxModel",
            "_view_module": "@jupyter-widgets/controls",
            "_model_module_version": "1.5.0",
            "_view_count": null,
            "_view_module_version": "1.5.0",
            "box_style": "",
            "layout": "IPY_MODEL_acf1dce60b0f4c81b995c6f3e9c09e88",
            "_model_module": "@jupyter-widgets/controls",
            "children": [
              "IPY_MODEL_46b900cca9c94e478183b9010bceb62c",
              "IPY_MODEL_12d65baf96614d20964fbc1996431743"
            ]
          }
        },
        "acf1dce60b0f4c81b995c6f3e9c09e88": {
          "model_module": "@jupyter-widgets/base",
          "model_name": "LayoutModel",
          "state": {
            "_view_name": "LayoutView",
            "grid_template_rows": null,
            "right": null,
            "justify_content": null,
            "_view_module": "@jupyter-widgets/base",
            "overflow": null,
            "_model_module_version": "1.2.0",
            "_view_count": null,
            "flex_flow": null,
            "width": null,
            "min_width": null,
            "border": null,
            "align_items": null,
            "bottom": null,
            "_model_module": "@jupyter-widgets/base",
            "top": null,
            "grid_column": null,
            "overflow_y": null,
            "overflow_x": null,
            "grid_auto_flow": null,
            "grid_area": null,
            "grid_template_columns": null,
            "flex": null,
            "_model_name": "LayoutModel",
            "justify_items": null,
            "grid_row": null,
            "max_height": null,
            "align_content": null,
            "visibility": null,
            "align_self": null,
            "height": null,
            "min_height": null,
            "padding": null,
            "grid_auto_rows": null,
            "grid_gap": null,
            "max_width": null,
            "order": null,
            "_view_module_version": "1.2.0",
            "grid_template_areas": null,
            "object_position": null,
            "object_fit": null,
            "grid_auto_columns": null,
            "margin": null,
            "display": null,
            "left": null
          }
        },
        "46b900cca9c94e478183b9010bceb62c": {
          "model_module": "@jupyter-widgets/controls",
          "model_name": "FloatProgressModel",
          "state": {
            "_view_name": "ProgressView",
            "style": "IPY_MODEL_440852a997094d7e83a2503b0b3096f4",
            "_dom_classes": [],
            "description": "100%",
            "_model_name": "FloatProgressModel",
            "bar_style": "success",
            "max": 441,
            "_view_module": "@jupyter-widgets/controls",
            "_model_module_version": "1.5.0",
            "value": 441,
            "_view_count": null,
            "_view_module_version": "1.5.0",
            "orientation": "horizontal",
            "min": 0,
            "description_tooltip": null,
            "_model_module": "@jupyter-widgets/controls",
            "layout": "IPY_MODEL_990cd23505a7480db978e4fcaf4e3ebb"
          }
        },
        "12d65baf96614d20964fbc1996431743": {
          "model_module": "@jupyter-widgets/controls",
          "model_name": "HTMLModel",
          "state": {
            "_view_name": "HTMLView",
            "style": "IPY_MODEL_a540633b77514e6f9b429b3bccd0f15c",
            "_dom_classes": [],
            "description": "",
            "_model_name": "HTMLModel",
            "placeholder": "​",
            "_view_module": "@jupyter-widgets/controls",
            "_model_module_version": "1.5.0",
            "value": " 441/441 [39:34&lt;00:00,  5.38s/it]",
            "_view_count": null,
            "_view_module_version": "1.5.0",
            "description_tooltip": null,
            "_model_module": "@jupyter-widgets/controls",
            "layout": "IPY_MODEL_9a3f9ac0a30343c08894aaf304dcdd54"
          }
        },
        "440852a997094d7e83a2503b0b3096f4": {
          "model_module": "@jupyter-widgets/controls",
          "model_name": "ProgressStyleModel",
          "state": {
            "_view_name": "StyleView",
            "_model_name": "ProgressStyleModel",
            "description_width": "initial",
            "_view_module": "@jupyter-widgets/base",
            "_model_module_version": "1.5.0",
            "_view_count": null,
            "_view_module_version": "1.2.0",
            "bar_color": null,
            "_model_module": "@jupyter-widgets/controls"
          }
        },
        "990cd23505a7480db978e4fcaf4e3ebb": {
          "model_module": "@jupyter-widgets/base",
          "model_name": "LayoutModel",
          "state": {
            "_view_name": "LayoutView",
            "grid_template_rows": null,
            "right": null,
            "justify_content": null,
            "_view_module": "@jupyter-widgets/base",
            "overflow": null,
            "_model_module_version": "1.2.0",
            "_view_count": null,
            "flex_flow": null,
            "width": null,
            "min_width": null,
            "border": null,
            "align_items": null,
            "bottom": null,
            "_model_module": "@jupyter-widgets/base",
            "top": null,
            "grid_column": null,
            "overflow_y": null,
            "overflow_x": null,
            "grid_auto_flow": null,
            "grid_area": null,
            "grid_template_columns": null,
            "flex": null,
            "_model_name": "LayoutModel",
            "justify_items": null,
            "grid_row": null,
            "max_height": null,
            "align_content": null,
            "visibility": null,
            "align_self": null,
            "height": null,
            "min_height": null,
            "padding": null,
            "grid_auto_rows": null,
            "grid_gap": null,
            "max_width": null,
            "order": null,
            "_view_module_version": "1.2.0",
            "grid_template_areas": null,
            "object_position": null,
            "object_fit": null,
            "grid_auto_columns": null,
            "margin": null,
            "display": null,
            "left": null
          }
        },
        "a540633b77514e6f9b429b3bccd0f15c": {
          "model_module": "@jupyter-widgets/controls",
          "model_name": "DescriptionStyleModel",
          "state": {
            "_view_name": "StyleView",
            "_model_name": "DescriptionStyleModel",
            "description_width": "",
            "_view_module": "@jupyter-widgets/base",
            "_model_module_version": "1.5.0",
            "_view_count": null,
            "_view_module_version": "1.2.0",
            "_model_module": "@jupyter-widgets/controls"
          }
        },
        "9a3f9ac0a30343c08894aaf304dcdd54": {
          "model_module": "@jupyter-widgets/base",
          "model_name": "LayoutModel",
          "state": {
            "_view_name": "LayoutView",
            "grid_template_rows": null,
            "right": null,
            "justify_content": null,
            "_view_module": "@jupyter-widgets/base",
            "overflow": null,
            "_model_module_version": "1.2.0",
            "_view_count": null,
            "flex_flow": null,
            "width": null,
            "min_width": null,
            "border": null,
            "align_items": null,
            "bottom": null,
            "_model_module": "@jupyter-widgets/base",
            "top": null,
            "grid_column": null,
            "overflow_y": null,
            "overflow_x": null,
            "grid_auto_flow": null,
            "grid_area": null,
            "grid_template_columns": null,
            "flex": null,
            "_model_name": "LayoutModel",
            "justify_items": null,
            "grid_row": null,
            "max_height": null,
            "align_content": null,
            "visibility": null,
            "align_self": null,
            "height": null,
            "min_height": null,
            "padding": null,
            "grid_auto_rows": null,
            "grid_gap": null,
            "max_width": null,
            "order": null,
            "_view_module_version": "1.2.0",
            "grid_template_areas": null,
            "object_position": null,
            "object_fit": null,
            "grid_auto_columns": null,
            "margin": null,
            "display": null,
            "left": null
          }
        },
        "ae6f064d86cd4aa1add52d5c0e700fa9": {
          "model_module": "@jupyter-widgets/controls",
          "model_name": "HBoxModel",
          "state": {
            "_view_name": "HBoxView",
            "_dom_classes": [],
            "_model_name": "HBoxModel",
            "_view_module": "@jupyter-widgets/controls",
            "_model_module_version": "1.5.0",
            "_view_count": null,
            "_view_module_version": "1.5.0",
            "box_style": "",
            "layout": "IPY_MODEL_aea782717d174a46a7d70ca4f534fba6",
            "_model_module": "@jupyter-widgets/controls",
            "children": [
              "IPY_MODEL_aa1317cff57140259a0967e04ab1e5f2",
              "IPY_MODEL_bbcb8e0106f74c78802745dba11a2d78"
            ]
          }
        },
        "aea782717d174a46a7d70ca4f534fba6": {
          "model_module": "@jupyter-widgets/base",
          "model_name": "LayoutModel",
          "state": {
            "_view_name": "LayoutView",
            "grid_template_rows": null,
            "right": null,
            "justify_content": null,
            "_view_module": "@jupyter-widgets/base",
            "overflow": null,
            "_model_module_version": "1.2.0",
            "_view_count": null,
            "flex_flow": null,
            "width": null,
            "min_width": null,
            "border": null,
            "align_items": null,
            "bottom": null,
            "_model_module": "@jupyter-widgets/base",
            "top": null,
            "grid_column": null,
            "overflow_y": null,
            "overflow_x": null,
            "grid_auto_flow": null,
            "grid_area": null,
            "grid_template_columns": null,
            "flex": null,
            "_model_name": "LayoutModel",
            "justify_items": null,
            "grid_row": null,
            "max_height": null,
            "align_content": null,
            "visibility": null,
            "align_self": null,
            "height": null,
            "min_height": null,
            "padding": null,
            "grid_auto_rows": null,
            "grid_gap": null,
            "max_width": null,
            "order": null,
            "_view_module_version": "1.2.0",
            "grid_template_areas": null,
            "object_position": null,
            "object_fit": null,
            "grid_auto_columns": null,
            "margin": null,
            "display": null,
            "left": null
          }
        },
        "aa1317cff57140259a0967e04ab1e5f2": {
          "model_module": "@jupyter-widgets/controls",
          "model_name": "FloatProgressModel",
          "state": {
            "_view_name": "ProgressView",
            "style": "IPY_MODEL_e8816c545b324225b16b9913806d2a1a",
            "_dom_classes": [],
            "description": "100%",
            "_model_name": "FloatProgressModel",
            "bar_style": "success",
            "max": 7056,
            "_view_module": "@jupyter-widgets/controls",
            "_model_module_version": "1.5.0",
            "value": 7056,
            "_view_count": null,
            "_view_module_version": "1.5.0",
            "orientation": "horizontal",
            "min": 0,
            "description_tooltip": null,
            "_model_module": "@jupyter-widgets/controls",
            "layout": "IPY_MODEL_5324c23d241541759b902eda0ecd13bb"
          }
        },
        "bbcb8e0106f74c78802745dba11a2d78": {
          "model_module": "@jupyter-widgets/controls",
          "model_name": "HTMLModel",
          "state": {
            "_view_name": "HTMLView",
            "style": "IPY_MODEL_6f427a668d5a41deb6af6caaff22dfb6",
            "_dom_classes": [],
            "description": "",
            "_model_name": "HTMLModel",
            "placeholder": "​",
            "_view_module": "@jupyter-widgets/controls",
            "_model_module_version": "1.5.0",
            "value": " 7056/7056 [00:00&lt;00:00, 8611.55it/s]",
            "_view_count": null,
            "_view_module_version": "1.5.0",
            "description_tooltip": null,
            "_model_module": "@jupyter-widgets/controls",
            "layout": "IPY_MODEL_7b1ed0ea0dda4ec1a0a361387c19a3ca"
          }
        },
        "e8816c545b324225b16b9913806d2a1a": {
          "model_module": "@jupyter-widgets/controls",
          "model_name": "ProgressStyleModel",
          "state": {
            "_view_name": "StyleView",
            "_model_name": "ProgressStyleModel",
            "description_width": "initial",
            "_view_module": "@jupyter-widgets/base",
            "_model_module_version": "1.5.0",
            "_view_count": null,
            "_view_module_version": "1.2.0",
            "bar_color": null,
            "_model_module": "@jupyter-widgets/controls"
          }
        },
        "5324c23d241541759b902eda0ecd13bb": {
          "model_module": "@jupyter-widgets/base",
          "model_name": "LayoutModel",
          "state": {
            "_view_name": "LayoutView",
            "grid_template_rows": null,
            "right": null,
            "justify_content": null,
            "_view_module": "@jupyter-widgets/base",
            "overflow": null,
            "_model_module_version": "1.2.0",
            "_view_count": null,
            "flex_flow": null,
            "width": null,
            "min_width": null,
            "border": null,
            "align_items": null,
            "bottom": null,
            "_model_module": "@jupyter-widgets/base",
            "top": null,
            "grid_column": null,
            "overflow_y": null,
            "overflow_x": null,
            "grid_auto_flow": null,
            "grid_area": null,
            "grid_template_columns": null,
            "flex": null,
            "_model_name": "LayoutModel",
            "justify_items": null,
            "grid_row": null,
            "max_height": null,
            "align_content": null,
            "visibility": null,
            "align_self": null,
            "height": null,
            "min_height": null,
            "padding": null,
            "grid_auto_rows": null,
            "grid_gap": null,
            "max_width": null,
            "order": null,
            "_view_module_version": "1.2.0",
            "grid_template_areas": null,
            "object_position": null,
            "object_fit": null,
            "grid_auto_columns": null,
            "margin": null,
            "display": null,
            "left": null
          }
        },
        "6f427a668d5a41deb6af6caaff22dfb6": {
          "model_module": "@jupyter-widgets/controls",
          "model_name": "DescriptionStyleModel",
          "state": {
            "_view_name": "StyleView",
            "_model_name": "DescriptionStyleModel",
            "description_width": "",
            "_view_module": "@jupyter-widgets/base",
            "_model_module_version": "1.5.0",
            "_view_count": null,
            "_view_module_version": "1.2.0",
            "_model_module": "@jupyter-widgets/controls"
          }
        },
        "7b1ed0ea0dda4ec1a0a361387c19a3ca": {
          "model_module": "@jupyter-widgets/base",
          "model_name": "LayoutModel",
          "state": {
            "_view_name": "LayoutView",
            "grid_template_rows": null,
            "right": null,
            "justify_content": null,
            "_view_module": "@jupyter-widgets/base",
            "overflow": null,
            "_model_module_version": "1.2.0",
            "_view_count": null,
            "flex_flow": null,
            "width": null,
            "min_width": null,
            "border": null,
            "align_items": null,
            "bottom": null,
            "_model_module": "@jupyter-widgets/base",
            "top": null,
            "grid_column": null,
            "overflow_y": null,
            "overflow_x": null,
            "grid_auto_flow": null,
            "grid_area": null,
            "grid_template_columns": null,
            "flex": null,
            "_model_name": "LayoutModel",
            "justify_items": null,
            "grid_row": null,
            "max_height": null,
            "align_content": null,
            "visibility": null,
            "align_self": null,
            "height": null,
            "min_height": null,
            "padding": null,
            "grid_auto_rows": null,
            "grid_gap": null,
            "max_width": null,
            "order": null,
            "_view_module_version": "1.2.0",
            "grid_template_areas": null,
            "object_position": null,
            "object_fit": null,
            "grid_auto_columns": null,
            "margin": null,
            "display": null,
            "left": null
          }
        },
        "8ffe70ee29ac44dd94e8c3c36f97990c": {
          "model_module": "@jupyter-widgets/controls",
          "model_name": "HBoxModel",
          "state": {
            "_view_name": "HBoxView",
            "_dom_classes": [],
            "_model_name": "HBoxModel",
            "_view_module": "@jupyter-widgets/controls",
            "_model_module_version": "1.5.0",
            "_view_count": null,
            "_view_module_version": "1.5.0",
            "box_style": "",
            "layout": "IPY_MODEL_3725837745b743a98d5975a7c1bf3a6a",
            "_model_module": "@jupyter-widgets/controls",
            "children": [
              "IPY_MODEL_5b9fec6f65ea4b3eba90cde16e49513f",
              "IPY_MODEL_a65555b045974adcb06458409a5b4345"
            ]
          }
        },
        "3725837745b743a98d5975a7c1bf3a6a": {
          "model_module": "@jupyter-widgets/base",
          "model_name": "LayoutModel",
          "state": {
            "_view_name": "LayoutView",
            "grid_template_rows": null,
            "right": null,
            "justify_content": null,
            "_view_module": "@jupyter-widgets/base",
            "overflow": null,
            "_model_module_version": "1.2.0",
            "_view_count": null,
            "flex_flow": null,
            "width": null,
            "min_width": null,
            "border": null,
            "align_items": null,
            "bottom": null,
            "_model_module": "@jupyter-widgets/base",
            "top": null,
            "grid_column": null,
            "overflow_y": null,
            "overflow_x": null,
            "grid_auto_flow": null,
            "grid_area": null,
            "grid_template_columns": null,
            "flex": null,
            "_model_name": "LayoutModel",
            "justify_items": null,
            "grid_row": null,
            "max_height": null,
            "align_content": null,
            "visibility": null,
            "align_self": null,
            "height": null,
            "min_height": null,
            "padding": null,
            "grid_auto_rows": null,
            "grid_gap": null,
            "max_width": null,
            "order": null,
            "_view_module_version": "1.2.0",
            "grid_template_areas": null,
            "object_position": null,
            "object_fit": null,
            "grid_auto_columns": null,
            "margin": null,
            "display": null,
            "left": null
          }
        },
        "5b9fec6f65ea4b3eba90cde16e49513f": {
          "model_module": "@jupyter-widgets/controls",
          "model_name": "FloatProgressModel",
          "state": {
            "_view_name": "ProgressView",
            "style": "IPY_MODEL_0bf7bc35ff954356a0a6d64bb1daa45f",
            "_dom_classes": [],
            "description": "100%",
            "_model_name": "FloatProgressModel",
            "bar_style": "success",
            "max": 7056,
            "_view_module": "@jupyter-widgets/controls",
            "_model_module_version": "1.5.0",
            "value": 7056,
            "_view_count": null,
            "_view_module_version": "1.5.0",
            "orientation": "horizontal",
            "min": 0,
            "description_tooltip": null,
            "_model_module": "@jupyter-widgets/controls",
            "layout": "IPY_MODEL_49499f3398154c29b45ea13e75e3e6eb"
          }
        },
        "a65555b045974adcb06458409a5b4345": {
          "model_module": "@jupyter-widgets/controls",
          "model_name": "HTMLModel",
          "state": {
            "_view_name": "HTMLView",
            "style": "IPY_MODEL_0b3a88d1807641e8b3b56db43fa757ce",
            "_dom_classes": [],
            "description": "",
            "_model_name": "HTMLModel",
            "placeholder": "​",
            "_view_module": "@jupyter-widgets/controls",
            "_model_module_version": "1.5.0",
            "value": " 7056/7056 [00:31&lt;00:00, 222.60it/s]",
            "_view_count": null,
            "_view_module_version": "1.5.0",
            "description_tooltip": null,
            "_model_module": "@jupyter-widgets/controls",
            "layout": "IPY_MODEL_e7d09e6f9a80440288363433927de4e0"
          }
        },
        "0bf7bc35ff954356a0a6d64bb1daa45f": {
          "model_module": "@jupyter-widgets/controls",
          "model_name": "ProgressStyleModel",
          "state": {
            "_view_name": "StyleView",
            "_model_name": "ProgressStyleModel",
            "description_width": "initial",
            "_view_module": "@jupyter-widgets/base",
            "_model_module_version": "1.5.0",
            "_view_count": null,
            "_view_module_version": "1.2.0",
            "bar_color": null,
            "_model_module": "@jupyter-widgets/controls"
          }
        },
        "49499f3398154c29b45ea13e75e3e6eb": {
          "model_module": "@jupyter-widgets/base",
          "model_name": "LayoutModel",
          "state": {
            "_view_name": "LayoutView",
            "grid_template_rows": null,
            "right": null,
            "justify_content": null,
            "_view_module": "@jupyter-widgets/base",
            "overflow": null,
            "_model_module_version": "1.2.0",
            "_view_count": null,
            "flex_flow": null,
            "width": null,
            "min_width": null,
            "border": null,
            "align_items": null,
            "bottom": null,
            "_model_module": "@jupyter-widgets/base",
            "top": null,
            "grid_column": null,
            "overflow_y": null,
            "overflow_x": null,
            "grid_auto_flow": null,
            "grid_area": null,
            "grid_template_columns": null,
            "flex": null,
            "_model_name": "LayoutModel",
            "justify_items": null,
            "grid_row": null,
            "max_height": null,
            "align_content": null,
            "visibility": null,
            "align_self": null,
            "height": null,
            "min_height": null,
            "padding": null,
            "grid_auto_rows": null,
            "grid_gap": null,
            "max_width": null,
            "order": null,
            "_view_module_version": "1.2.0",
            "grid_template_areas": null,
            "object_position": null,
            "object_fit": null,
            "grid_auto_columns": null,
            "margin": null,
            "display": null,
            "left": null
          }
        },
        "0b3a88d1807641e8b3b56db43fa757ce": {
          "model_module": "@jupyter-widgets/controls",
          "model_name": "DescriptionStyleModel",
          "state": {
            "_view_name": "StyleView",
            "_model_name": "DescriptionStyleModel",
            "description_width": "",
            "_view_module": "@jupyter-widgets/base",
            "_model_module_version": "1.5.0",
            "_view_count": null,
            "_view_module_version": "1.2.0",
            "_model_module": "@jupyter-widgets/controls"
          }
        },
        "e7d09e6f9a80440288363433927de4e0": {
          "model_module": "@jupyter-widgets/base",
          "model_name": "LayoutModel",
          "state": {
            "_view_name": "LayoutView",
            "grid_template_rows": null,
            "right": null,
            "justify_content": null,
            "_view_module": "@jupyter-widgets/base",
            "overflow": null,
            "_model_module_version": "1.2.0",
            "_view_count": null,
            "flex_flow": null,
            "width": null,
            "min_width": null,
            "border": null,
            "align_items": null,
            "bottom": null,
            "_model_module": "@jupyter-widgets/base",
            "top": null,
            "grid_column": null,
            "overflow_y": null,
            "overflow_x": null,
            "grid_auto_flow": null,
            "grid_area": null,
            "grid_template_columns": null,
            "flex": null,
            "_model_name": "LayoutModel",
            "justify_items": null,
            "grid_row": null,
            "max_height": null,
            "align_content": null,
            "visibility": null,
            "align_self": null,
            "height": null,
            "min_height": null,
            "padding": null,
            "grid_auto_rows": null,
            "grid_gap": null,
            "max_width": null,
            "order": null,
            "_view_module_version": "1.2.0",
            "grid_template_areas": null,
            "object_position": null,
            "object_fit": null,
            "grid_auto_columns": null,
            "margin": null,
            "display": null,
            "left": null
          }
        },
        "c49476810495453083eca7abe67ca8dc": {
          "model_module": "@jupyter-widgets/controls",
          "model_name": "HBoxModel",
          "state": {
            "_view_name": "HBoxView",
            "_dom_classes": [],
            "_model_name": "HBoxModel",
            "_view_module": "@jupyter-widgets/controls",
            "_model_module_version": "1.5.0",
            "_view_count": null,
            "_view_module_version": "1.5.0",
            "box_style": "",
            "layout": "IPY_MODEL_838bb19bcbb34bd38423edec7c7e4b96",
            "_model_module": "@jupyter-widgets/controls",
            "children": [
              "IPY_MODEL_9a2f56175ef94fff84d4a55382b36b25",
              "IPY_MODEL_856450cd02834d26a40c8e2ddbda39bf"
            ]
          }
        },
        "838bb19bcbb34bd38423edec7c7e4b96": {
          "model_module": "@jupyter-widgets/base",
          "model_name": "LayoutModel",
          "state": {
            "_view_name": "LayoutView",
            "grid_template_rows": null,
            "right": null,
            "justify_content": null,
            "_view_module": "@jupyter-widgets/base",
            "overflow": null,
            "_model_module_version": "1.2.0",
            "_view_count": null,
            "flex_flow": null,
            "width": null,
            "min_width": null,
            "border": null,
            "align_items": null,
            "bottom": null,
            "_model_module": "@jupyter-widgets/base",
            "top": null,
            "grid_column": null,
            "overflow_y": null,
            "overflow_x": null,
            "grid_auto_flow": null,
            "grid_area": null,
            "grid_template_columns": null,
            "flex": null,
            "_model_name": "LayoutModel",
            "justify_items": null,
            "grid_row": null,
            "max_height": null,
            "align_content": null,
            "visibility": null,
            "align_self": null,
            "height": null,
            "min_height": null,
            "padding": null,
            "grid_auto_rows": null,
            "grid_gap": null,
            "max_width": null,
            "order": null,
            "_view_module_version": "1.2.0",
            "grid_template_areas": null,
            "object_position": null,
            "object_fit": null,
            "grid_auto_columns": null,
            "margin": null,
            "display": null,
            "left": null
          }
        },
        "9a2f56175ef94fff84d4a55382b36b25": {
          "model_module": "@jupyter-widgets/controls",
          "model_name": "FloatProgressModel",
          "state": {
            "_view_name": "ProgressView",
            "style": "IPY_MODEL_b97725a175404f7aa643c10446b6871d",
            "_dom_classes": [],
            "description": "100%",
            "_model_name": "FloatProgressModel",
            "bar_style": "success",
            "max": 7056,
            "_view_module": "@jupyter-widgets/controls",
            "_model_module_version": "1.5.0",
            "value": 7056,
            "_view_count": null,
            "_view_module_version": "1.5.0",
            "orientation": "horizontal",
            "min": 0,
            "description_tooltip": null,
            "_model_module": "@jupyter-widgets/controls",
            "layout": "IPY_MODEL_2d229eda3d2242bf86915926ced279ad"
          }
        },
        "856450cd02834d26a40c8e2ddbda39bf": {
          "model_module": "@jupyter-widgets/controls",
          "model_name": "HTMLModel",
          "state": {
            "_view_name": "HTMLView",
            "style": "IPY_MODEL_2ee91005279043a392a1054d6c10ddc5",
            "_dom_classes": [],
            "description": "",
            "_model_name": "HTMLModel",
            "placeholder": "​",
            "_view_module": "@jupyter-widgets/controls",
            "_model_module_version": "1.5.0",
            "value": " 7056/7056 [01:50&lt;00:00, 64.06it/s]",
            "_view_count": null,
            "_view_module_version": "1.5.0",
            "description_tooltip": null,
            "_model_module": "@jupyter-widgets/controls",
            "layout": "IPY_MODEL_e24a9ef36cff4bdb9152fdfcf2a0105b"
          }
        },
        "b97725a175404f7aa643c10446b6871d": {
          "model_module": "@jupyter-widgets/controls",
          "model_name": "ProgressStyleModel",
          "state": {
            "_view_name": "StyleView",
            "_model_name": "ProgressStyleModel",
            "description_width": "initial",
            "_view_module": "@jupyter-widgets/base",
            "_model_module_version": "1.5.0",
            "_view_count": null,
            "_view_module_version": "1.2.0",
            "bar_color": null,
            "_model_module": "@jupyter-widgets/controls"
          }
        },
        "2d229eda3d2242bf86915926ced279ad": {
          "model_module": "@jupyter-widgets/base",
          "model_name": "LayoutModel",
          "state": {
            "_view_name": "LayoutView",
            "grid_template_rows": null,
            "right": null,
            "justify_content": null,
            "_view_module": "@jupyter-widgets/base",
            "overflow": null,
            "_model_module_version": "1.2.0",
            "_view_count": null,
            "flex_flow": null,
            "width": null,
            "min_width": null,
            "border": null,
            "align_items": null,
            "bottom": null,
            "_model_module": "@jupyter-widgets/base",
            "top": null,
            "grid_column": null,
            "overflow_y": null,
            "overflow_x": null,
            "grid_auto_flow": null,
            "grid_area": null,
            "grid_template_columns": null,
            "flex": null,
            "_model_name": "LayoutModel",
            "justify_items": null,
            "grid_row": null,
            "max_height": null,
            "align_content": null,
            "visibility": null,
            "align_self": null,
            "height": null,
            "min_height": null,
            "padding": null,
            "grid_auto_rows": null,
            "grid_gap": null,
            "max_width": null,
            "order": null,
            "_view_module_version": "1.2.0",
            "grid_template_areas": null,
            "object_position": null,
            "object_fit": null,
            "grid_auto_columns": null,
            "margin": null,
            "display": null,
            "left": null
          }
        },
        "2ee91005279043a392a1054d6c10ddc5": {
          "model_module": "@jupyter-widgets/controls",
          "model_name": "DescriptionStyleModel",
          "state": {
            "_view_name": "StyleView",
            "_model_name": "DescriptionStyleModel",
            "description_width": "",
            "_view_module": "@jupyter-widgets/base",
            "_model_module_version": "1.5.0",
            "_view_count": null,
            "_view_module_version": "1.2.0",
            "_model_module": "@jupyter-widgets/controls"
          }
        },
        "e24a9ef36cff4bdb9152fdfcf2a0105b": {
          "model_module": "@jupyter-widgets/base",
          "model_name": "LayoutModel",
          "state": {
            "_view_name": "LayoutView",
            "grid_template_rows": null,
            "right": null,
            "justify_content": null,
            "_view_module": "@jupyter-widgets/base",
            "overflow": null,
            "_model_module_version": "1.2.0",
            "_view_count": null,
            "flex_flow": null,
            "width": null,
            "min_width": null,
            "border": null,
            "align_items": null,
            "bottom": null,
            "_model_module": "@jupyter-widgets/base",
            "top": null,
            "grid_column": null,
            "overflow_y": null,
            "overflow_x": null,
            "grid_auto_flow": null,
            "grid_area": null,
            "grid_template_columns": null,
            "flex": null,
            "_model_name": "LayoutModel",
            "justify_items": null,
            "grid_row": null,
            "max_height": null,
            "align_content": null,
            "visibility": null,
            "align_self": null,
            "height": null,
            "min_height": null,
            "padding": null,
            "grid_auto_rows": null,
            "grid_gap": null,
            "max_width": null,
            "order": null,
            "_view_module_version": "1.2.0",
            "grid_template_areas": null,
            "object_position": null,
            "object_fit": null,
            "grid_auto_columns": null,
            "margin": null,
            "display": null,
            "left": null
          }
        },
        "be614db0275a4676b4c0a5c64f2d37d4": {
          "model_module": "@jupyter-widgets/controls",
          "model_name": "HBoxModel",
          "state": {
            "_view_name": "HBoxView",
            "_dom_classes": [],
            "_model_name": "HBoxModel",
            "_view_module": "@jupyter-widgets/controls",
            "_model_module_version": "1.5.0",
            "_view_count": null,
            "_view_module_version": "1.5.0",
            "box_style": "",
            "layout": "IPY_MODEL_c0f90e70f72041da8a78e8cd99a289c2",
            "_model_module": "@jupyter-widgets/controls",
            "children": [
              "IPY_MODEL_870876d8933e4e109f9263f5e42fc34e",
              "IPY_MODEL_e098e2be0192418eb14bc3cbbc80352e"
            ]
          }
        },
        "c0f90e70f72041da8a78e8cd99a289c2": {
          "model_module": "@jupyter-widgets/base",
          "model_name": "LayoutModel",
          "state": {
            "_view_name": "LayoutView",
            "grid_template_rows": null,
            "right": null,
            "justify_content": null,
            "_view_module": "@jupyter-widgets/base",
            "overflow": null,
            "_model_module_version": "1.2.0",
            "_view_count": null,
            "flex_flow": null,
            "width": null,
            "min_width": null,
            "border": null,
            "align_items": null,
            "bottom": null,
            "_model_module": "@jupyter-widgets/base",
            "top": null,
            "grid_column": null,
            "overflow_y": null,
            "overflow_x": null,
            "grid_auto_flow": null,
            "grid_area": null,
            "grid_template_columns": null,
            "flex": null,
            "_model_name": "LayoutModel",
            "justify_items": null,
            "grid_row": null,
            "max_height": null,
            "align_content": null,
            "visibility": null,
            "align_self": null,
            "height": null,
            "min_height": null,
            "padding": null,
            "grid_auto_rows": null,
            "grid_gap": null,
            "max_width": null,
            "order": null,
            "_view_module_version": "1.2.0",
            "grid_template_areas": null,
            "object_position": null,
            "object_fit": null,
            "grid_auto_columns": null,
            "margin": null,
            "display": null,
            "left": null
          }
        },
        "870876d8933e4e109f9263f5e42fc34e": {
          "model_module": "@jupyter-widgets/controls",
          "model_name": "FloatProgressModel",
          "state": {
            "_view_name": "ProgressView",
            "style": "IPY_MODEL_0e7be108026847238ac6f01f9758925d",
            "_dom_classes": [],
            "description": "100%",
            "_model_name": "FloatProgressModel",
            "bar_style": "success",
            "max": 7056,
            "_view_module": "@jupyter-widgets/controls",
            "_model_module_version": "1.5.0",
            "value": 7056,
            "_view_count": null,
            "_view_module_version": "1.5.0",
            "orientation": "horizontal",
            "min": 0,
            "description_tooltip": null,
            "_model_module": "@jupyter-widgets/controls",
            "layout": "IPY_MODEL_5ec792694bc64cbcb2ee652bebe501b8"
          }
        },
        "e098e2be0192418eb14bc3cbbc80352e": {
          "model_module": "@jupyter-widgets/controls",
          "model_name": "HTMLModel",
          "state": {
            "_view_name": "HTMLView",
            "style": "IPY_MODEL_fb29f35262c34374a8b0facb56fe18ea",
            "_dom_classes": [],
            "description": "",
            "_model_name": "HTMLModel",
            "placeholder": "​",
            "_view_module": "@jupyter-widgets/controls",
            "_model_module_version": "1.5.0",
            "value": " 7056/7056 [07:18&lt;00:00, 16.08it/s]",
            "_view_count": null,
            "_view_module_version": "1.5.0",
            "description_tooltip": null,
            "_model_module": "@jupyter-widgets/controls",
            "layout": "IPY_MODEL_4d11d420c6104f6b86e4abc5ffeed5c5"
          }
        },
        "0e7be108026847238ac6f01f9758925d": {
          "model_module": "@jupyter-widgets/controls",
          "model_name": "ProgressStyleModel",
          "state": {
            "_view_name": "StyleView",
            "_model_name": "ProgressStyleModel",
            "description_width": "initial",
            "_view_module": "@jupyter-widgets/base",
            "_model_module_version": "1.5.0",
            "_view_count": null,
            "_view_module_version": "1.2.0",
            "bar_color": null,
            "_model_module": "@jupyter-widgets/controls"
          }
        },
        "5ec792694bc64cbcb2ee652bebe501b8": {
          "model_module": "@jupyter-widgets/base",
          "model_name": "LayoutModel",
          "state": {
            "_view_name": "LayoutView",
            "grid_template_rows": null,
            "right": null,
            "justify_content": null,
            "_view_module": "@jupyter-widgets/base",
            "overflow": null,
            "_model_module_version": "1.2.0",
            "_view_count": null,
            "flex_flow": null,
            "width": null,
            "min_width": null,
            "border": null,
            "align_items": null,
            "bottom": null,
            "_model_module": "@jupyter-widgets/base",
            "top": null,
            "grid_column": null,
            "overflow_y": null,
            "overflow_x": null,
            "grid_auto_flow": null,
            "grid_area": null,
            "grid_template_columns": null,
            "flex": null,
            "_model_name": "LayoutModel",
            "justify_items": null,
            "grid_row": null,
            "max_height": null,
            "align_content": null,
            "visibility": null,
            "align_self": null,
            "height": null,
            "min_height": null,
            "padding": null,
            "grid_auto_rows": null,
            "grid_gap": null,
            "max_width": null,
            "order": null,
            "_view_module_version": "1.2.0",
            "grid_template_areas": null,
            "object_position": null,
            "object_fit": null,
            "grid_auto_columns": null,
            "margin": null,
            "display": null,
            "left": null
          }
        },
        "fb29f35262c34374a8b0facb56fe18ea": {
          "model_module": "@jupyter-widgets/controls",
          "model_name": "DescriptionStyleModel",
          "state": {
            "_view_name": "StyleView",
            "_model_name": "DescriptionStyleModel",
            "description_width": "",
            "_view_module": "@jupyter-widgets/base",
            "_model_module_version": "1.5.0",
            "_view_count": null,
            "_view_module_version": "1.2.0",
            "_model_module": "@jupyter-widgets/controls"
          }
        },
        "4d11d420c6104f6b86e4abc5ffeed5c5": {
          "model_module": "@jupyter-widgets/base",
          "model_name": "LayoutModel",
          "state": {
            "_view_name": "LayoutView",
            "grid_template_rows": null,
            "right": null,
            "justify_content": null,
            "_view_module": "@jupyter-widgets/base",
            "overflow": null,
            "_model_module_version": "1.2.0",
            "_view_count": null,
            "flex_flow": null,
            "width": null,
            "min_width": null,
            "border": null,
            "align_items": null,
            "bottom": null,
            "_model_module": "@jupyter-widgets/base",
            "top": null,
            "grid_column": null,
            "overflow_y": null,
            "overflow_x": null,
            "grid_auto_flow": null,
            "grid_area": null,
            "grid_template_columns": null,
            "flex": null,
            "_model_name": "LayoutModel",
            "justify_items": null,
            "grid_row": null,
            "max_height": null,
            "align_content": null,
            "visibility": null,
            "align_self": null,
            "height": null,
            "min_height": null,
            "padding": null,
            "grid_auto_rows": null,
            "grid_gap": null,
            "max_width": null,
            "order": null,
            "_view_module_version": "1.2.0",
            "grid_template_areas": null,
            "object_position": null,
            "object_fit": null,
            "grid_auto_columns": null,
            "margin": null,
            "display": null,
            "left": null
          }
        }
      }
    }
  },
  "cells": [
    {
      "cell_type": "code",
      "metadata": {
        "colab": {
          "base_uri": "https://localhost:8080/"
        },
        "id": "LqvhCkrSJd0x",
        "outputId": "d8e7c20a-e619-4c58-e3c7-4e16c0a1340c"
      },
      "source": [
        "!pip install shapely -U\n",
        "!pip install lyft-dataset-sdk"
      ],
      "execution_count": 1,
      "outputs": [
        {
          "output_type": "stream",
          "text": [
            "Requirement already up-to-date: shapely in /usr/local/lib/python3.7/dist-packages (1.7.1)\n",
            "Collecting lyft-dataset-sdk\n",
            "  Downloading https://files.pythonhosted.org/packages/52/d0/1203423cd24ae9da33a66736a75ee81f7f7e487dde5041b99a66f86a444d/lyft_dataset_sdk-0.0.8-py2.py3-none-any.whl\n",
            "Requirement already satisfied: plotly in /usr/local/lib/python3.7/dist-packages (from lyft-dataset-sdk) (4.4.1)\n",
            "Collecting pyquaternion>=0.9.5\n",
            "  Downloading https://files.pythonhosted.org/packages/49/b3/d8482e8cacc8ea15a356efea13d22ce1c5914a9ee36622ba250523240bf2/pyquaternion-0.9.9-py3-none-any.whl\n",
            "Requirement already satisfied: scipy>=1.1.0 in /usr/local/lib/python3.7/dist-packages (from lyft-dataset-sdk) (1.4.1)\n",
            "Requirement already satisfied: scikit-learn>=0.19.2 in /usr/local/lib/python3.7/dist-packages (from lyft-dataset-sdk) (0.22.2.post1)\n",
            "Requirement already satisfied: Shapely>=1.6.4.post2 in /usr/local/lib/python3.7/dist-packages (from lyft-dataset-sdk) (1.7.1)\n",
            "Requirement already satisfied: numpy>=1.14.5 in /usr/local/lib/python3.7/dist-packages (from lyft-dataset-sdk) (1.19.5)\n",
            "Requirement already satisfied: Pillow>=5.2.0 in /usr/local/lib/python3.7/dist-packages (from lyft-dataset-sdk) (7.1.2)\n",
            "Collecting fire\n",
            "\u001b[?25l  Downloading https://files.pythonhosted.org/packages/11/07/a119a1aa04d37bc819940d95ed7e135a7dcca1c098123a3764a6dcace9e7/fire-0.4.0.tar.gz (87kB)\n",
            "\u001b[K     |████████████████████████████████| 92kB 5.1MB/s \n",
            "\u001b[?25hCollecting black\n",
            "\u001b[?25l  Downloading https://files.pythonhosted.org/packages/85/87/f16eea1cab2c677a082a4a8b62d5b43c89ed30fbcee89bf1b5e7d651bf28/black-21.4b0-py3-none-any.whl (129kB)\n",
            "\u001b[K     |████████████████████████████████| 133kB 35.2MB/s \n",
            "\u001b[?25hCollecting flake8\n",
            "\u001b[?25l  Downloading https://files.pythonhosted.org/packages/a0/b0/3b5820728d687f2c000476216a3fccc7a03baac1034afc0284ccde25e26d/flake8-3.9.1-py2.py3-none-any.whl (73kB)\n",
            "\u001b[K     |████████████████████████████████| 81kB 12.0MB/s \n",
            "\u001b[?25hRequirement already satisfied: tqdm>=4.25.0 in /usr/local/lib/python3.7/dist-packages (from lyft-dataset-sdk) (4.41.1)\n",
            "Requirement already satisfied: cachetools>=3.1.0 in /usr/local/lib/python3.7/dist-packages (from lyft-dataset-sdk) (4.2.1)\n",
            "Requirement already satisfied: pytest in /usr/local/lib/python3.7/dist-packages (from lyft-dataset-sdk) (3.6.4)\n",
            "Requirement already satisfied: opencv-python>=3.4.2.17 in /usr/local/lib/python3.7/dist-packages (from lyft-dataset-sdk) (4.1.2.30)\n",
            "Requirement already satisfied: pandas in /usr/local/lib/python3.7/dist-packages (from lyft-dataset-sdk) (1.1.5)\n",
            "Requirement already satisfied: matplotlib in /usr/local/lib/python3.7/dist-packages (from lyft-dataset-sdk) (3.2.2)\n",
            "Requirement already satisfied: six in /usr/local/lib/python3.7/dist-packages (from plotly->lyft-dataset-sdk) (1.15.0)\n",
            "Requirement already satisfied: retrying>=1.3.3 in /usr/local/lib/python3.7/dist-packages (from plotly->lyft-dataset-sdk) (1.3.3)\n",
            "Requirement already satisfied: joblib>=0.11 in /usr/local/lib/python3.7/dist-packages (from scikit-learn>=0.19.2->lyft-dataset-sdk) (1.0.1)\n",
            "Requirement already satisfied: termcolor in /usr/local/lib/python3.7/dist-packages (from fire->lyft-dataset-sdk) (1.1.0)\n",
            "Collecting typed-ast>=1.4.2; python_version < \"3.8\"\n",
            "\u001b[?25l  Downloading https://files.pythonhosted.org/packages/65/b3/573d2f1fecbbe8f82a8d08172e938c247f99abe1be3bef3da2efaa3810bf/typed_ast-1.4.3-cp37-cp37m-manylinux1_x86_64.whl (743kB)\n",
            "\u001b[K     |████████████████████████████████| 747kB 49.2MB/s \n",
            "\u001b[?25hRequirement already satisfied: toml>=0.10.1 in /usr/local/lib/python3.7/dist-packages (from black->lyft-dataset-sdk) (0.10.2)\n",
            "Requirement already satisfied: typing-extensions>=3.7.4; python_version < \"3.8\" in /usr/local/lib/python3.7/dist-packages (from black->lyft-dataset-sdk) (3.7.4.3)\n",
            "Requirement already satisfied: click>=7.1.2 in /usr/local/lib/python3.7/dist-packages (from black->lyft-dataset-sdk) (7.1.2)\n",
            "Collecting pathspec<1,>=0.6\n",
            "  Downloading https://files.pythonhosted.org/packages/29/29/a465741a3d97ea3c17d21eaad4c64205428bde56742360876c4391f930d4/pathspec-0.8.1-py2.py3-none-any.whl\n",
            "Requirement already satisfied: appdirs in /usr/local/lib/python3.7/dist-packages (from black->lyft-dataset-sdk) (1.4.4)\n",
            "Collecting mypy-extensions>=0.4.3\n",
            "  Downloading https://files.pythonhosted.org/packages/5c/eb/975c7c080f3223a5cdaff09612f3a5221e4ba534f7039db34c35d95fa6a5/mypy_extensions-0.4.3-py2.py3-none-any.whl\n",
            "Collecting regex>=2020.1.8\n",
            "\u001b[?25l  Downloading https://files.pythonhosted.org/packages/c4/28/5f08d8841013ccf72cd95dfff2500fe7fb39467af12c5e7b802d8381d811/regex-2021.4.4-cp37-cp37m-manylinux2014_x86_64.whl (720kB)\n",
            "\u001b[K     |████████████████████████████████| 727kB 46.4MB/s \n",
            "\u001b[?25hCollecting pycodestyle<2.8.0,>=2.7.0\n",
            "\u001b[?25l  Downloading https://files.pythonhosted.org/packages/de/cc/227251b1471f129bc35e966bb0fceb005969023926d744139642d847b7ae/pycodestyle-2.7.0-py2.py3-none-any.whl (41kB)\n",
            "\u001b[K     |████████████████████████████████| 51kB 8.8MB/s \n",
            "\u001b[?25hCollecting pyflakes<2.4.0,>=2.3.0\n",
            "\u001b[?25l  Downloading https://files.pythonhosted.org/packages/6c/11/2a745612f1d3cbbd9c69ba14b1b43a35a2f5c3c81cd0124508c52c64307f/pyflakes-2.3.1-py2.py3-none-any.whl (68kB)\n",
            "\u001b[K     |████████████████████████████████| 71kB 11.4MB/s \n",
            "\u001b[?25hCollecting mccabe<0.7.0,>=0.6.0\n",
            "  Downloading https://files.pythonhosted.org/packages/87/89/479dc97e18549e21354893e4ee4ef36db1d237534982482c3681ee6e7b57/mccabe-0.6.1-py2.py3-none-any.whl\n",
            "Requirement already satisfied: importlib-metadata; python_version < \"3.8\" in /usr/local/lib/python3.7/dist-packages (from flake8->lyft-dataset-sdk) (3.10.1)\n",
            "Requirement already satisfied: py>=1.5.0 in /usr/local/lib/python3.7/dist-packages (from pytest->lyft-dataset-sdk) (1.10.0)\n",
            "Requirement already satisfied: setuptools in /usr/local/lib/python3.7/dist-packages (from pytest->lyft-dataset-sdk) (56.0.0)\n",
            "Requirement already satisfied: more-itertools>=4.0.0 in /usr/local/lib/python3.7/dist-packages (from pytest->lyft-dataset-sdk) (8.7.0)\n",
            "Requirement already satisfied: attrs>=17.4.0 in /usr/local/lib/python3.7/dist-packages (from pytest->lyft-dataset-sdk) (20.3.0)\n",
            "Requirement already satisfied: atomicwrites>=1.0 in /usr/local/lib/python3.7/dist-packages (from pytest->lyft-dataset-sdk) (1.4.0)\n",
            "Requirement already satisfied: pluggy<0.8,>=0.5 in /usr/local/lib/python3.7/dist-packages (from pytest->lyft-dataset-sdk) (0.7.1)\n",
            "Requirement already satisfied: python-dateutil>=2.7.3 in /usr/local/lib/python3.7/dist-packages (from pandas->lyft-dataset-sdk) (2.8.1)\n",
            "Requirement already satisfied: pytz>=2017.2 in /usr/local/lib/python3.7/dist-packages (from pandas->lyft-dataset-sdk) (2018.9)\n",
            "Requirement already satisfied: kiwisolver>=1.0.1 in /usr/local/lib/python3.7/dist-packages (from matplotlib->lyft-dataset-sdk) (1.3.1)\n",
            "Requirement already satisfied: cycler>=0.10 in /usr/local/lib/python3.7/dist-packages (from matplotlib->lyft-dataset-sdk) (0.10.0)\n",
            "Requirement already satisfied: pyparsing!=2.0.4,!=2.1.2,!=2.1.6,>=2.0.1 in /usr/local/lib/python3.7/dist-packages (from matplotlib->lyft-dataset-sdk) (2.4.7)\n",
            "Requirement already satisfied: zipp>=0.5 in /usr/local/lib/python3.7/dist-packages (from importlib-metadata; python_version < \"3.8\"->flake8->lyft-dataset-sdk) (3.4.1)\n",
            "Building wheels for collected packages: fire\n",
            "  Building wheel for fire (setup.py) ... \u001b[?25l\u001b[?25hdone\n",
            "  Created wheel for fire: filename=fire-0.4.0-py2.py3-none-any.whl size=115928 sha256=aab5cf4b26b065c94da1ad79ed86abe1aaa3023adad499c42be4583a4c0a2a00\n",
            "  Stored in directory: /root/.cache/pip/wheels/af/19/30/1ea0cad502dcb4e66ed5a690279628c827aea38bbbab75d5ed\n",
            "Successfully built fire\n",
            "Installing collected packages: pyquaternion, fire, typed-ast, pathspec, mypy-extensions, regex, black, pycodestyle, pyflakes, mccabe, flake8, lyft-dataset-sdk\n",
            "  Found existing installation: regex 2019.12.20\n",
            "    Uninstalling regex-2019.12.20:\n",
            "      Successfully uninstalled regex-2019.12.20\n",
            "Successfully installed black-21.4b0 fire-0.4.0 flake8-3.9.1 lyft-dataset-sdk-0.0.8 mccabe-0.6.1 mypy-extensions-0.4.3 pathspec-0.8.1 pycodestyle-2.7.0 pyflakes-2.3.1 pyquaternion-0.9.9 regex-2021.4.4 typed-ast-1.4.3\n"
          ],
          "name": "stdout"
        }
      ]
    },
    {
      "cell_type": "code",
      "metadata": {
        "colab": {
          "base_uri": "https://localhost:8080/"
        },
        "id": "viJsjOctJmXE",
        "outputId": "ede7d9b6-23a6-4439-bd85-8ad2693c96a5"
      },
      "source": [
        "from google.colab import drive\n",
        "drive.mount('/content/drive')"
      ],
      "execution_count": 2,
      "outputs": [
        {
          "output_type": "stream",
          "text": [
            "Mounted at /content/drive\n"
          ],
          "name": "stdout"
        }
      ]
    },
    {
      "cell_type": "code",
      "metadata": {
        "id": "uC0Ia3zGJpYm"
      },
      "source": [
        "# outputs,data will be stored in artifacts \n",
        "ARTIFACTS_FOLDER = \"/content/drive/Shareddrives/CMPE249 Project/Lyft/artifacts\""
      ],
      "execution_count": 3,
      "outputs": []
    },
    {
      "cell_type": "code",
      "metadata": {
        "id": "0Q5WUncRJx1k"
      },
      "source": [
        "from datetime import datetime\n",
        "from functools import partial\n",
        "import glob\n",
        "from multiprocessing import Pool\n",
        "import os\n",
        "os.environ[\"OMP_NUM_THREADS\"] = \"1\"\n",
        "\n",
        "import matplotlib.pyplot as plt\n",
        "%matplotlib inline\n",
        "\n",
        "import pandas as pd\n",
        "import cv2\n",
        "from PIL import Image\n",
        "import numpy as np\n",
        "from tqdm.notebook import tqdm\n",
        "\n",
        "import scipy\n",
        "import scipy.ndimage\n",
        "import scipy.special\n",
        "from scipy.spatial.transform import Rotation as R\n",
        "\n",
        "from lyft_dataset_sdk.lyftdataset import LyftDataset\n",
        "from lyft_dataset_sdk.utils.data_classes import LidarPointCloud, Box, Quaternion\n",
        "from lyft_dataset_sdk.utils.geometry_utils import view_points, transform_matrix"
      ],
      "execution_count": 4,
      "outputs": []
    },
    {
      "cell_type": "code",
      "metadata": {
        "id": "T4L1c4dhKAWm"
      },
      "source": [
        "validation_data_folder = os.path.join(ARTIFACTS_FOLDER, \"bev_validation_data\")"
      ],
      "execution_count": 5,
      "outputs": []
    },
    {
      "cell_type": "code",
      "metadata": {
        "id": "anF2tSKGKkhu"
      },
      "source": [
        "import torch\n",
        "import torch.nn as nn\n",
        "import torch.nn.functional as F\n",
        "import torch.utils.data\n",
        "\n",
        "class BEVImageDataset(torch.utils.data.Dataset):\n",
        "    def __init__(self, input_filepaths, target_filepaths, map_filepaths=None):\n",
        "        self.input_filepaths = input_filepaths\n",
        "        self.target_filepaths = target_filepaths\n",
        "        self.map_filepaths = map_filepaths\n",
        "        \n",
        "        if map_filepaths is not None:\n",
        "            assert len(input_filepaths) == len(map_filepaths)\n",
        "        \n",
        "        assert len(input_filepaths) == len(target_filepaths)\n",
        "\n",
        "    def __len__(self):\n",
        "        return len(self.input_filepaths)\n",
        "\n",
        "    def __getitem__(self, idx):\n",
        "        input_filepath = self.input_filepaths[idx]\n",
        "        target_filepath = self.target_filepaths[idx]\n",
        "        \n",
        "        sample_token = input_filepath.split(\"/\")[-1].replace(\"_input.png\",\"\")\n",
        "        \n",
        "        im = cv2.imread(input_filepath, cv2.IMREAD_UNCHANGED)\n",
        "        \n",
        "        if self.map_filepaths:\n",
        "            map_filepath = self.map_filepaths[idx]\n",
        "            map_im = cv2.imread(map_filepath, cv2.IMREAD_UNCHANGED)\n",
        "            im = np.concatenate((im, map_im), axis=2)\n",
        "        \n",
        "        target = cv2.imread(target_filepath, cv2.IMREAD_UNCHANGED)\n",
        "        \n",
        "        im = im.astype(np.float32)/255\n",
        "        target = target.astype(np.int64)\n",
        "        \n",
        "        im = torch.from_numpy(im.transpose(2,0,1))\n",
        "        target = torch.from_numpy(target)\n",
        "        \n",
        "        return im, target, sample_token"
      ],
      "execution_count": 6,
      "outputs": []
    },
    {
      "cell_type": "code",
      "metadata": {
        "id": "KSBuZ53WKuDT"
      },
      "source": [
        "# This implementation was copied from https://github.com/jvanvugt/pytorch-unet, it is MIT licensed.\n",
        "\n",
        "class UNet(nn.Module):\n",
        "    def __init__(\n",
        "        self,\n",
        "        in_channels=1,\n",
        "        n_classes=2,\n",
        "        depth=5,\n",
        "        wf=6,\n",
        "        padding=False,\n",
        "        batch_norm=False,\n",
        "        up_mode='upconv',\n",
        "    ):\n",
        "        \"\"\"\n",
        "        Implementation of\n",
        "        U-Net: Convolutional Networks for Biomedical Image Segmentation\n",
        "        (Ronneberger et al., 2015)\n",
        "        https://arxiv.org/abs/1505.04597\n",
        "        Using the default arguments will yield the exact version used\n",
        "        in the original paper\n",
        "        Args:\n",
        "            in_channels (int): number of input channels\n",
        "            n_classes (int): number of output channels\n",
        "            depth (int): depth of the network\n",
        "            wf (int): number of filters in the first layer is 2**wf\n",
        "            padding (bool): if True, apply padding such that the input shape\n",
        "                            is the same as the output.\n",
        "                            This may introduce artifacts\n",
        "            batch_norm (bool): Use BatchNorm after layers with an\n",
        "                               activation function\n",
        "            up_mode (str): one of 'upconv' or 'upsample'.\n",
        "                           'upconv' will use transposed convolutions for\n",
        "                           learned upsampling.\n",
        "                           'upsample' will use bilinear upsampling.\n",
        "        \"\"\"\n",
        "        super(UNet, self).__init__()\n",
        "        assert up_mode in ('upconv', 'upsample')\n",
        "        self.padding = padding\n",
        "        self.depth = depth\n",
        "        prev_channels = in_channels\n",
        "        self.down_path = nn.ModuleList()\n",
        "        for i in range(depth):\n",
        "            self.down_path.append(\n",
        "                UNetConvBlock(prev_channels, 2 ** (wf + i), padding, batch_norm)\n",
        "            )\n",
        "            prev_channels = 2 ** (wf + i)\n",
        "\n",
        "        self.up_path = nn.ModuleList()\n",
        "        for i in reversed(range(depth - 1)):\n",
        "            self.up_path.append(\n",
        "                UNetUpBlock(prev_channels, 2 ** (wf + i), up_mode, padding, batch_norm)\n",
        "            )\n",
        "            prev_channels = 2 ** (wf + i)\n",
        "\n",
        "        self.last = nn.Conv2d(prev_channels, n_classes, kernel_size=1)\n",
        "\n",
        "    def forward(self, x):\n",
        "        blocks = []\n",
        "        for i, down in enumerate(self.down_path):\n",
        "            x = down(x)\n",
        "            if i != len(self.down_path) - 1:\n",
        "                blocks.append(x)\n",
        "                x = F.max_pool2d(x, 2)\n",
        "\n",
        "        for i, up in enumerate(self.up_path):\n",
        "            x = up(x, blocks[-i - 1])\n",
        "\n",
        "        return self.last(x)\n",
        "\n",
        "\n",
        "class UNetConvBlock(nn.Module):\n",
        "    def __init__(self, in_size, out_size, padding, batch_norm):\n",
        "        super(UNetConvBlock, self).__init__()\n",
        "        block = []\n",
        "\n",
        "        block.append(nn.Conv2d(in_size, out_size, kernel_size=3, padding=int(padding)))\n",
        "        block.append(nn.ReLU())\n",
        "        if batch_norm:\n",
        "            block.append(nn.BatchNorm2d(out_size))\n",
        "\n",
        "        block.append(nn.Conv2d(out_size, out_size, kernel_size=3, padding=int(padding)))\n",
        "        block.append(nn.ReLU())\n",
        "        if batch_norm:\n",
        "            block.append(nn.BatchNorm2d(out_size))\n",
        "\n",
        "        self.block = nn.Sequential(*block)\n",
        "\n",
        "    def forward(self, x):\n",
        "        out = self.block(x)\n",
        "        return out\n",
        "\n",
        "\n",
        "class UNetUpBlock(nn.Module):\n",
        "    def __init__(self, in_size, out_size, up_mode, padding, batch_norm):\n",
        "        super(UNetUpBlock, self).__init__()\n",
        "        if up_mode == 'upconv':\n",
        "            self.up = nn.ConvTranspose2d(in_size, out_size, kernel_size=2, stride=2)\n",
        "        elif up_mode == 'upsample':\n",
        "            self.up = nn.Sequential(\n",
        "                nn.Upsample(mode='bilinear', scale_factor=2),\n",
        "                nn.Conv2d(in_size, out_size, kernel_size=1),\n",
        "            )\n",
        "\n",
        "        self.conv_block = UNetConvBlock(in_size, out_size, padding, batch_norm)\n",
        "\n",
        "    def center_crop(self, layer, target_size):\n",
        "        _, _, layer_height, layer_width = layer.size()\n",
        "        diff_y = (layer_height - target_size[0]) // 2\n",
        "        diff_x = (layer_width - target_size[1]) // 2\n",
        "        return layer[\n",
        "            :, :, diff_y : (diff_y + target_size[0]), diff_x : (diff_x + target_size[1])\n",
        "        ]\n",
        "\n",
        "    def forward(self, x, bridge):\n",
        "        up = self.up(x)\n",
        "        crop1 = self.center_crop(bridge, up.shape[2:])\n",
        "        out = torch.cat([up, crop1], 1)\n",
        "        out = self.conv_block(out)\n",
        "\n",
        "        return out"
      ],
      "execution_count": 7,
      "outputs": []
    },
    {
      "cell_type": "code",
      "metadata": {
        "id": "vTYtZVhKKw4i"
      },
      "source": [
        "def get_unet_model(in_channels=3, num_output_classes=2):\n",
        "    model = UNet(in_channels=in_channels, n_classes=num_output_classes, wf=5, depth=4, padding=True, up_mode='upsample')\n",
        "    \n",
        "    # Optional, for multi GPU training and inference\n",
        "    model = nn.DataParallel(model)\n",
        "    return model"
      ],
      "execution_count": 8,
      "outputs": []
    },
    {
      "cell_type": "code",
      "metadata": {
        "id": "pghe3gLnK459"
      },
      "source": [
        "classes = [\"car\", \"motorcycle\", \"bus\", \"bicycle\", \"truck\", \"pedestrian\", \"other_vehicle\", \"animal\", \"emergency_vehicle\"]"
      ],
      "execution_count": 9,
      "outputs": []
    },
    {
      "cell_type": "code",
      "metadata": {
        "colab": {
          "base_uri": "https://localhost:8080/"
        },
        "id": "uo2ntUuZJ5E-",
        "outputId": "1fa348e8-e445-45b2-bb71-1945cccd683c"
      },
      "source": [
        "input_filepaths = sorted(glob.glob(os.path.join(validation_data_folder, \"*_input.png\")))\n",
        "target_filepaths = sorted(glob.glob(os.path.join(validation_data_folder, \"*_target.png\")))\n",
        "\n",
        "batch_size=16\n",
        "validation_dataset = BEVImageDataset(input_filepaths, target_filepaths)\n",
        "validation_dataloader = torch.utils.data.DataLoader(validation_dataset, batch_size, shuffle=False, num_workers=os.cpu_count())\n",
        "\n",
        "\n",
        "device = torch.device('cuda' if torch.cuda.is_available() else 'cpu')\n",
        "model = get_unet_model(num_output_classes=1+len(classes))\n",
        "model = model.to(device)\n",
        "\n",
        "epoch_to_load=15\n",
        "checkpoint_filename = \"unet_checkpoint_epoch_{}.pth\".format(epoch_to_load)\n",
        "checkpoint_filepath = os.path.join(ARTIFACTS_FOLDER, checkpoint_filename)\n",
        "model.load_state_dict(torch.load(checkpoint_filepath))"
      ],
      "execution_count": 10,
      "outputs": [
        {
          "output_type": "execute_result",
          "data": {
            "text/plain": [
              "<All keys matched successfully>"
            ]
          },
          "metadata": {
            "tags": []
          },
          "execution_count": 10
        }
      ]
    },
    {
      "cell_type": "code",
      "metadata": {
        "id": "VDLirTbsL9wa"
      },
      "source": [
        "# We weigh the loss for the 0 class lower to account for (some of) the big class imbalance.\n",
        "device = torch.device('cuda' if torch.cuda.is_available() else 'cpu')\n",
        "class_weights = torch.from_numpy(np.array([0.2] + [1.0]*len(classes), dtype=np.float32))\n",
        "class_weights = class_weights.to(device)"
      ],
      "execution_count": 11,
      "outputs": []
    },
    {
      "cell_type": "code",
      "metadata": {
        "id": "5P4cTYqSNDf-"
      },
      "source": [
        "def visualize_predictions(input_image, prediction, target, n_images=2, apply_softmax=True):\n",
        "    \"\"\"\n",
        "    Takes as input 3 PyTorch tensors, plots the input image, predictions and targets.\n",
        "    \"\"\"\n",
        "    # Only select the first n images\n",
        "    prediction = prediction[:n_images]\n",
        "    target = target[:n_images]\n",
        "    input_image = input_image[:n_images]\n",
        "\n",
        "    prediction = prediction.detach().cpu().numpy()\n",
        "    if apply_softmax:\n",
        "        prediction = scipy.special.softmax(prediction, axis=1)\n",
        "    class_one_preds = np.hstack(1-prediction[:,0])\n",
        "\n",
        "    target = np.hstack(target.detach().cpu().numpy())\n",
        "\n",
        "    class_rgb = np.repeat(class_one_preds[..., None], 3, axis=2)\n",
        "    class_rgb[...,2] = 0\n",
        "    class_rgb[...,1] = target\n",
        "\n",
        "    \n",
        "    input_im = np.hstack(input_image.cpu().numpy().transpose(0,2,3,1))\n",
        "    \n",
        "    if input_im.shape[2] == 3:\n",
        "        input_im_grayscale = np.repeat(input_im.mean(axis=2)[..., None], 3, axis=2)\n",
        "        overlayed_im = (input_im_grayscale*0.6 + class_rgb*0.7).clip(0,1)\n",
        "    else:\n",
        "        input_map = input_im[...,3:]\n",
        "        overlayed_im = (input_map*0.6 + class_rgb*0.7).clip(0,1)\n",
        "\n",
        "    thresholded_pred = np.repeat(class_one_preds[..., None] > 0.5, 3, axis=2)\n",
        "\n",
        "    fig = plt.figure(figsize=(12,26))\n",
        "    plot_im = np.vstack([class_rgb, input_im[...,:3], overlayed_im, thresholded_pred]).clip(0,1).astype(np.float32)\n",
        "    plt.imshow(plot_im)\n",
        "    plt.axis(\"off\")\n",
        "    plt.show()"
      ],
      "execution_count": 12,
      "outputs": []
    },
    {
      "cell_type": "code",
      "metadata": {
        "colab": {
          "base_uri": "https://localhost:8080/",
          "height": 1000,
          "referenced_widgets": [
            "d03cb8a1f2434907894e1ad470dbc964",
            "acf1dce60b0f4c81b995c6f3e9c09e88",
            "46b900cca9c94e478183b9010bceb62c",
            "12d65baf96614d20964fbc1996431743",
            "440852a997094d7e83a2503b0b3096f4",
            "990cd23505a7480db978e4fcaf4e3ebb",
            "a540633b77514e6f9b429b3bccd0f15c",
            "9a3f9ac0a30343c08894aaf304dcdd54"
          ]
        },
        "id": "1oz9ptFzLjSG",
        "outputId": "02a3f581-2497-4f59-f13f-7a3a3ec2053c"
      },
      "source": [
        "progress_bar = tqdm(validation_dataloader)\n",
        "\n",
        "targets = np.zeros((len(target_filepaths), 336, 336), dtype=np.uint8)\n",
        "\n",
        "# We quantize to uint8 here to conserve memory. We're allocating >20GB of memory otherwise.\n",
        "predictions = np.zeros((len(target_filepaths), 1+len(classes), 336, 336), dtype=np.uint8)\n",
        "\n",
        "sample_tokens = []\n",
        "all_losses = []\n",
        "\n",
        "with torch.no_grad():\n",
        "    model.eval()\n",
        "    for ii, (X, target, batch_sample_tokens) in enumerate(progress_bar):\n",
        "\n",
        "        offset = ii*batch_size\n",
        "        targets[offset:offset+batch_size] = target.numpy()\n",
        "        sample_tokens.extend(batch_sample_tokens)\n",
        "        \n",
        "        X = X.to(device)  # [N, 1, H, W]\n",
        "        target = target.to(device)  # [N, H, W] with class indices (0, 1)\n",
        "        prediction = model(X)  # [N, 2, H, W]\n",
        "        loss = F.cross_entropy(prediction, target, weight=class_weights)\n",
        "        all_losses.append(loss.detach().cpu().numpy())\n",
        "        \n",
        "        prediction = F.softmax(prediction, dim=1)\n",
        "        \n",
        "        prediction_cpu = prediction.cpu().numpy()\n",
        "        predictions[offset:offset+batch_size] = np.round(prediction_cpu*255).astype(np.uint8)\n",
        "        \n",
        "        # Visualize the first prediction\n",
        "        if ii == 0:\n",
        "            visualize_predictions(X, prediction, target, apply_softmax=False)\n",
        "            \n",
        "print(\"Mean loss:\", np.mean(all_losses))"
      ],
      "execution_count": 13,
      "outputs": [
        {
          "output_type": "display_data",
          "data": {
            "application/vnd.jupyter.widget-view+json": {
              "model_id": "d03cb8a1f2434907894e1ad470dbc964",
              "version_minor": 0,
              "version_major": 2
            },
            "text/plain": [
              "HBox(children=(FloatProgress(value=0.0, max=441.0), HTML(value='')))"
            ]
          },
          "metadata": {
            "tags": []
          }
        },
        {
          "output_type": "stream",
          "text": [
            "/usr/local/lib/python3.7/dist-packages/torch/nn/functional.py:3458: UserWarning: Default upsampling behavior when mode=bilinear is changed to align_corners=False since 0.4.0. Please specify align_corners=True if the old behavior is desired. See the documentation of nn.Upsample for details.\n",
            "  \"See the documentation of nn.Upsample for details.\".format(mode)\n"
          ],
          "name": "stderr"
        },
        {
          "output_type": "display_data",
          "data": {
            "image/png": "[encoded data removed]",
            "text/plain": [
              "<Figure size 864x1872 with 1 Axes>"
            ]
          },
          "metadata": {
            "tags": [],
            "needs_background": "light"
          }
        },
        {
          "output_type": "stream",
          "text": [
            "\n",
            "Mean loss: 0.09007313\n"
          ],
          "name": "stdout"
        }
      ]
    },
    {
      "cell_type": "code",
      "metadata": {
        "colab": {
          "base_uri": "https://localhost:8080/",
          "height": 1000
        },
        "id": "9W5ZHcnORYyq",
        "outputId": "8668fbc9-8c59-4c16-c8da-4d1fc5f3c4ed"
      },
      "source": [
        "predictions_non_class0 = 255 - predictions[:,0]\n",
        "background_threshold = 255//2\n",
        "\n",
        "for i in range(3):\n",
        "    fig, axes = plt.subplots(nrows=1, ncols=3, figsize=(16, 6))\n",
        "    axes[0].imshow(predictions_non_class0[i])\n",
        "    axes[0].set_title(\"predictions\")\n",
        "    axes[1].imshow(predictions_non_class0[i] > background_threshold)\n",
        "    axes[1].set_title(\"thresholded predictions\")\n",
        "    axes[2].imshow((targets[i] > 0).astype(np.uint8), interpolation=\"nearest\")\n",
        "    axes[2].set_title(\"targets\")\n",
        "    fig.tight_layout()\n",
        "    fig.show()"
      ],
      "execution_count": 14,
      "outputs": [
        {
          "output_type": "display_data",
          "data": {
            "image/png": "[encoded data removed]",
            "text/plain": [
              "<Figure size 1152x432 with 3 Axes>"
            ]
          },
          "metadata": {
            "tags": [],
            "needs_background": "light"
          }
        },
        {
          "output_type": "display_data",
          "data": {
            "image/png": "[encoded data removed]",
            "text/plain": [
              "<Figure size 1152x432 with 3 Axes>"
            ]
          },
          "metadata": {
            "tags": [],
            "needs_background": "light"
          }
        },
        {
          "output_type": "display_data",
          "data": {
            "image/png": "[encoded data removed]",
            "text/plain": [
              "<Figure size 1152x432 with 3 Axes>"
            ]
          },
          "metadata": {
            "tags": [],
            "needs_background": "light"
          }
        }
      ]
    },
    {
      "cell_type": "code",
      "metadata": {
        "colab": {
          "base_uri": "https://localhost:8080/",
          "height": 456,
          "referenced_widgets": [
            "ae6f064d86cd4aa1add52d5c0e700fa9",
            "aea782717d174a46a7d70ca4f534fba6",
            "aa1317cff57140259a0967e04ab1e5f2",
            "bbcb8e0106f74c78802745dba11a2d78",
            "e8816c545b324225b16b9913806d2a1a",
            "5324c23d241541759b902eda0ecd13bb",
            "6f427a668d5a41deb6af6caaff22dfb6",
            "7b1ed0ea0dda4ec1a0a361387c19a3ca"
          ]
        },
        "id": "upcOlMYCUA51",
        "outputId": "82985060-3426-440f-9905-1aa4ad8a54fa"
      },
      "source": [
        "# We perform an opening morphological operation to filter tiny detections\n",
        "# Note that this may be problematic for classes that are inherently small (e.g. pedestrians)..\n",
        "kernel = cv2.getStructuringElement(cv2.MORPH_ELLIPSE,(3,3))\n",
        "predictions_opened = np.zeros((predictions_non_class0.shape), dtype=np.uint8)\n",
        "\n",
        "for i, p in enumerate(tqdm(predictions_non_class0)):\n",
        "    thresholded_p = (p > background_threshold).astype(np.uint8)\n",
        "    predictions_opened[i] = cv2.morphologyEx(thresholded_p, cv2.MORPH_OPEN, kernel)\n",
        "\n",
        "plt.figure(figsize=(12,12))\n",
        "fig, axes = plt.subplots(nrows=1, ncols=2, figsize=(16, 6))\n",
        "axes[0].imshow(predictions_non_class0[0] > 255//2)\n",
        "axes[0].set_title(\"thresholded prediction\")\n",
        "axes[1].imshow(predictions_opened[0])\n",
        "axes[1].set_title(\"opened thresholded prediction\")\n",
        "fig.show()\n"
      ],
      "execution_count": 15,
      "outputs": [
        {
          "output_type": "display_data",
          "data": {
            "application/vnd.jupyter.widget-view+json": {
              "model_id": "ae6f064d86cd4aa1add52d5c0e700fa9",
              "version_minor": 0,
              "version_major": 2
            },
            "text/plain": [
              "HBox(children=(FloatProgress(value=0.0, max=7056.0), HTML(value='')))"
            ]
          },
          "metadata": {
            "tags": []
          }
        },
        {
          "output_type": "stream",
          "text": [
            "\n"
          ],
          "name": "stdout"
        },
        {
          "output_type": "display_data",
          "data": {
            "text/plain": [
              "<Figure size 864x864 with 0 Axes>"
            ]
          },
          "metadata": {
            "tags": []
          }
        },
        {
          "output_type": "display_data",
          "data": {
            "image/png": "[encoded data removed]",
            "text/plain": [
              "<Figure size 1152x432 with 2 Axes>"
            ]
          },
          "metadata": {
            "tags": [],
            "needs_background": "light"
          }
        }
      ]
    },
    {
      "cell_type": "code",
      "metadata": {
        "colab": {
          "base_uri": "https://localhost:8080/",
          "height": 597,
          "referenced_widgets": [
            "8ffe70ee29ac44dd94e8c3c36f97990c",
            "3725837745b743a98d5975a7c1bf3a6a",
            "5b9fec6f65ea4b3eba90cde16e49513f",
            "a65555b045974adcb06458409a5b4345",
            "0bf7bc35ff954356a0a6d64bb1daa45f",
            "49499f3398154c29b45ea13e75e3e6eb",
            "0b3a88d1807641e8b3b56db43fa757ce",
            "e7d09e6f9a80440288363433927de4e0"
          ]
        },
        "id": "WQB37jQYUaF4",
        "outputId": "03076bab-1637-4abb-be27-662e09bb3864"
      },
      "source": [
        "detection_boxes = []\n",
        "detection_scores = []\n",
        "detection_classes = []\n",
        "\n",
        "for i in tqdm(range(len(predictions))):\n",
        "    prediction_opened = predictions_opened[i]\n",
        "    probability_non_class0 = predictions_non_class0[i]\n",
        "    class_probability = predictions[i]\n",
        "\n",
        "    sample_boxes = []\n",
        "    sample_detection_scores = []\n",
        "    sample_detection_classes = []\n",
        "    \n",
        "    contours, hierarchy = cv2.findContours(prediction_opened, cv2.RETR_EXTERNAL, cv2.CHAIN_APPROX_NONE) \n",
        "    \n",
        "    for cnt in contours:\n",
        "        rect = cv2.minAreaRect(cnt)\n",
        "        box = cv2.boxPoints(rect)\n",
        "        \n",
        "        # Let's take the center pixel value as the confidence value\n",
        "        box_center_index = np.int0(np.mean(box, axis=0))\n",
        "        \n",
        "        for class_index in range(len(classes)):\n",
        "            box_center_value = class_probability[class_index+1, box_center_index[1], box_center_index[0]]\n",
        "            \n",
        "            # Let's remove candidates with very low probability\n",
        "            if box_center_value < 0.01:\n",
        "                continue\n",
        "            \n",
        "            box_center_class = classes[class_index]\n",
        "\n",
        "            box_detection_score = box_center_value\n",
        "            sample_detection_classes.append(box_center_class)\n",
        "            sample_detection_scores.append(box_detection_score)\n",
        "            sample_boxes.append(box)\n",
        "        \n",
        "    \n",
        "    detection_boxes.append(np.array(sample_boxes))\n",
        "    detection_scores.append(sample_detection_scores)\n",
        "    detection_classes.append(sample_detection_classes)\n",
        "    \n",
        "print(\"Total amount of boxes:\", np.sum([len(x) for x in detection_boxes]))\n",
        "    \n",
        "\n",
        "# Visualize the boxes in the first sample\n",
        "t = np.zeros_like(predictions_opened[0])\n",
        "for sample_boxes in detection_boxes[0]:\n",
        "    box_pix = np.int0(sample_boxes)\n",
        "    cv2.drawContours(t,[box_pix],0,(255),2)\n",
        "plt.imshow(t)\n",
        "plt.show()\n",
        "\n",
        "# Visualize their probabilities\n",
        "plt.hist(detection_scores[0], bins=20)\n",
        "plt.xlabel(\"Detection Score\")\n",
        "plt.ylabel(\"Count\")\n",
        "plt.show()"
      ],
      "execution_count": 16,
      "outputs": [
        {
          "output_type": "display_data",
          "data": {
            "application/vnd.jupyter.widget-view+json": {
              "model_id": "8ffe70ee29ac44dd94e8c3c36f97990c",
              "version_minor": 0,
              "version_major": 2
            },
            "text/plain": [
              "HBox(children=(FloatProgress(value=0.0, max=7056.0), HTML(value='')))"
            ]
          },
          "metadata": {
            "tags": []
          }
        },
        {
          "output_type": "stream",
          "text": [
            "\n",
            "Total amount of boxes: 192224\n"
          ],
          "name": "stdout"
        },
        {
          "output_type": "display_data",
          "data": {
            "image/png": "[encoded data removed]",
            "text/plain": [
              "<Figure size 432x288 with 1 Axes>"
            ]
          },
          "metadata": {
            "tags": [],
            "needs_background": "light"
          }
        },
        {
          "output_type": "display_data",
          "data": {
            "image/png": "[encoded data removed]",
            "text/plain": [
              "<Figure size 432x288 with 1 Axes>"
            ]
          },
          "metadata": {
            "tags": [],
            "needs_background": "light"
          }
        }
      ]
    },
    {
      "cell_type": "code",
      "metadata": {
        "id": "8SlEnKUqU360"
      },
      "source": [
        "!ln -s /content/drive/Shareddrives/CMPE249\\ Project/Lyft/train_images images\n",
        "!ln -s /content/drive/Shareddrives/CMPE249\\ Project/Lyft/train_maps maps\n",
        "!ln -s /content/drive/Shareddrives/CMPE249\\ Project/Lyft/train_lidar lidar"
      ],
      "execution_count": 17,
      "outputs": []
    },
    {
      "cell_type": "code",
      "metadata": {
        "colab": {
          "base_uri": "https://localhost:8080/"
        },
        "id": "UliIpVC6Uoew",
        "outputId": "7bd6a925-5541-408e-9cca-51cdc229ca31"
      },
      "source": [
        "level5data = LyftDataset(data_path='.', json_path='/content/drive/Shareddrives/CMPE249 Project/Lyft/train_data', verbose=True)\n",
        "os.makedirs(ARTIFACTS_FOLDER, exist_ok=True)"
      ],
      "execution_count": 18,
      "outputs": [
        {
          "output_type": "stream",
          "text": [
            "9 category,\n",
            "18 attribute,\n",
            "4 visibility,\n",
            "18421 instance,\n",
            "10 sensor,\n",
            "148 calibrated_sensor,\n",
            "177789 ego_pose,\n",
            "180 log,\n",
            "180 scene,\n",
            "22680 sample,\n",
            "189504 sample_data,\n",
            "638179 sample_annotation,\n",
            "1 map,\n",
            "Done loading in 34.7 seconds.\n",
            "======\n",
            "Reverse indexing ...\n",
            "Done reverse indexing in 3.8 seconds.\n",
            "======\n"
          ],
          "name": "stdout"
        }
      ]
    },
    {
      "cell_type": "code",
      "metadata": {
        "colab": {
          "base_uri": "https://localhost:8080/",
          "height": 66,
          "referenced_widgets": [
            "c49476810495453083eca7abe67ca8dc",
            "838bb19bcbb34bd38423edec7c7e4b96",
            "9a2f56175ef94fff84d4a55382b36b25",
            "856450cd02834d26a40c8e2ddbda39bf",
            "b97725a175404f7aa643c10446b6871d",
            "2d229eda3d2242bf86915926ced279ad",
            "2ee91005279043a392a1054d6c10ddc5",
            "e24a9ef36cff4bdb9152fdfcf2a0105b"
          ]
        },
        "id": "DthBFYrLUf73",
        "outputId": "1aa72577-e5a5-4b4e-aeb7-b50ba01ebda1"
      },
      "source": [
        "from lyft_dataset_sdk.eval.detection.mAP_evaluation import Box3D, recall_precision\n",
        "\n",
        "def load_groundtruth_boxes(nuscenes, sample_tokens):\n",
        "    gt_box3ds = []\n",
        "\n",
        "    # Load annotations and filter predictions and annotations.\n",
        "    for sample_token in tqdm(sample_tokens):\n",
        "\n",
        "        sample = nuscenes.get('sample', sample_token)\n",
        "        sample_annotation_tokens = sample['anns']\n",
        "\n",
        "        sample_lidar_token = sample[\"data\"][\"LIDAR_TOP\"]\n",
        "        lidar_data = level5data.get(\"sample_data\", sample_lidar_token)\n",
        "        ego_pose = level5data.get(\"ego_pose\", lidar_data[\"ego_pose_token\"])\n",
        "        ego_translation = np.array(ego_pose['translation'])\n",
        "        \n",
        "        for sample_annotation_token in sample_annotation_tokens:\n",
        "            sample_annotation = nuscenes.get('sample_annotation', sample_annotation_token)\n",
        "            sample_annotation_translation = sample_annotation['translation']\n",
        "            \n",
        "            class_name = sample_annotation['category_name']\n",
        "            \n",
        "            box3d = Box3D(\n",
        "                sample_token=sample_token,\n",
        "                translation=sample_annotation_translation,\n",
        "                size=sample_annotation['size'],\n",
        "                rotation=sample_annotation['rotation'],\n",
        "                name=class_name\n",
        "            )\n",
        "            gt_box3ds.append(box3d)\n",
        "            \n",
        "    return gt_box3ds\n",
        "\n",
        "gt_box3ds = load_groundtruth_boxes(level5data, sample_tokens)"
      ],
      "execution_count": 19,
      "outputs": [
        {
          "output_type": "display_data",
          "data": {
            "application/vnd.jupyter.widget-view+json": {
              "model_id": "c49476810495453083eca7abe67ca8dc",
              "version_minor": 0,
              "version_major": 2
            },
            "text/plain": [
              "HBox(children=(FloatProgress(value=0.0, max=7056.0), HTML(value='')))"
            ]
          },
          "metadata": {
            "tags": []
          }
        },
        {
          "output_type": "stream",
          "text": [
            "\n"
          ],
          "name": "stdout"
        }
      ]
    },
    {
      "cell_type": "code",
      "metadata": {
        "id": "-1rZ6Uk6VclL"
      },
      "source": [
        "def create_transformation_matrix_to_voxel_space(shape, voxel_size, offset):\n",
        "    \"\"\"\n",
        "    Constructs a transformation matrix given an output voxel shape such that (0,0,0) ends up in the center.\n",
        "    Voxel_size defines how large every voxel is in world coordinate, (1,1,1) would be the same as Minecraft voxels.\n",
        "    \n",
        "    An offset per axis in world coordinates (metric) can be provided, this is useful for Z (up-down) in lidar points.\n",
        "    \"\"\"\n",
        "    \n",
        "    shape, voxel_size, offset = np.array(shape), np.array(voxel_size), np.array(offset)\n",
        "    \n",
        "    tm = np.eye(4, dtype=np.float32)\n",
        "    translation = shape/2 + offset/voxel_size\n",
        "    \n",
        "    tm = tm * np.array(np.hstack((1/voxel_size, [1])))\n",
        "    tm[:3, 3] = np.transpose(translation)\n",
        "    return tm\n",
        "\n",
        "def transform_points(points, transf_matrix):\n",
        "    \"\"\"\n",
        "    Transform (3,N) or (4,N) points using transformation matrix.\n",
        "    \"\"\"\n",
        "    if points.shape[0] not in [3,4]:\n",
        "        raise Exception(\"Points input should be (3,N) or (4,N) shape, received {}\".format(points.shape))\n",
        "    return transf_matrix.dot(np.vstack((points[:3, :], np.ones(points.shape[1]))))[:3, :]\n"
      ],
      "execution_count": 20,
      "outputs": []
    },
    {
      "cell_type": "code",
      "metadata": {
        "id": "kurUlAW0Vl0d"
      },
      "source": [
        "voxel_size = (0.4,0.4,1.5)\n",
        "z_offset = -2.0\n",
        "bev_shape = (336, 336, 3)\n",
        "box_scale = 0.8"
      ],
      "execution_count": 21,
      "outputs": []
    },
    {
      "cell_type": "code",
      "metadata": {
        "colab": {
          "base_uri": "https://localhost:8080/",
          "height": 100,
          "referenced_widgets": [
            "be614db0275a4676b4c0a5c64f2d37d4",
            "c0f90e70f72041da8a78e8cd99a289c2",
            "870876d8933e4e109f9263f5e42fc34e",
            "e098e2be0192418eb14bc3cbbc80352e",
            "0e7be108026847238ac6f01f9758925d",
            "5ec792694bc64cbcb2ee652bebe501b8",
            "fb29f35262c34374a8b0facb56fe18ea",
            "4d11d420c6104f6b86e4abc5ffeed5c5"
          ]
        },
        "id": "p-aBopf5U00q",
        "outputId": "f7df98d3-0c29-42fc-9e43-fb07c6951fb0"
      },
      "source": [
        "pred_box3ds = []\n",
        "\n",
        "# This could use some refactoring..\n",
        "for (sample_token, sample_boxes, sample_detection_scores, sample_detection_class) in tqdm(zip(sample_tokens, detection_boxes, detection_scores, detection_classes), total=len(sample_tokens)):\n",
        "    sample_boxes = sample_boxes.reshape(-1, 2) # (N, 4, 2) -> (N*4, 2)\n",
        "    sample_boxes = sample_boxes.transpose(1,0) # (N*4, 2) -> (2, N*4)\n",
        "\n",
        "    # Add Z dimension\n",
        "    sample_boxes = np.vstack((sample_boxes, np.zeros(sample_boxes.shape[1]),)) # (2, N*4) -> (3, N*4)\n",
        "\n",
        "    sample = level5data.get(\"sample\", sample_token)\n",
        "    sample_lidar_token = sample[\"data\"][\"LIDAR_TOP\"]\n",
        "    lidar_data = level5data.get(\"sample_data\", sample_lidar_token)\n",
        "    lidar_filepath = level5data.get_sample_data_path(sample_lidar_token)\n",
        "    ego_pose = level5data.get(\"ego_pose\", lidar_data[\"ego_pose_token\"])\n",
        "    ego_translation = np.array(ego_pose['translation'])\n",
        "\n",
        "    global_from_car = transform_matrix(ego_pose['translation'],\n",
        "                                       Quaternion(ego_pose['rotation']), inverse=False)\n",
        "\n",
        "    car_from_voxel = np.linalg.inv(create_transformation_matrix_to_voxel_space(bev_shape, voxel_size, (0, 0, z_offset)))\n",
        "\n",
        "\n",
        "    global_from_voxel = np.dot(global_from_car, car_from_voxel)\n",
        "    sample_boxes = transform_points(sample_boxes, global_from_voxel)\n",
        "\n",
        "    # We don't know at where the boxes are in the scene on the z-axis (up-down), let's assume all of them are at\n",
        "    # the same height as the ego vehicle.\n",
        "    sample_boxes[2,:] = ego_pose[\"translation\"][2]\n",
        "\n",
        "\n",
        "    # (3, N*4) -> (N, 4, 3)\n",
        "    sample_boxes = sample_boxes.transpose(1,0).reshape(-1, 4, 3)\n",
        "\n",
        "\n",
        "    # We don't know the height of our boxes, let's assume every object is the same height.\n",
        "    box_height = 1.75\n",
        "\n",
        "    # Note: Each of these boxes describes the ground corners of a 3D box.\n",
        "    # To get the center of the box in 3D, we'll have to add half the height to it.\n",
        "    sample_boxes_centers = sample_boxes.mean(axis=1)\n",
        "    sample_boxes_centers[:,2] += box_height/2\n",
        "\n",
        "    # Width and height is arbitrary - we don't know what way the vehicles are pointing from our prediction segmentation\n",
        "    # It doesn't matter for evaluation, so no need to worry about that here.\n",
        "    # Note: We scaled our targets to be 0.8 the actual size, we need to adjust for that\n",
        "    sample_lengths = np.linalg.norm(sample_boxes[:,0,:] - sample_boxes[:,1,:], axis=1) * 1/box_scale\n",
        "    sample_widths = np.linalg.norm(sample_boxes[:,1,:] - sample_boxes[:,2,:], axis=1) * 1/box_scale\n",
        "    \n",
        "    sample_boxes_dimensions = np.zeros_like(sample_boxes_centers) \n",
        "    sample_boxes_dimensions[:,0] = sample_widths\n",
        "    sample_boxes_dimensions[:,1] = sample_lengths\n",
        "    sample_boxes_dimensions[:,2] = box_height\n",
        "\n",
        "    for i in range(len(sample_boxes)):\n",
        "        translation = sample_boxes_centers[i]\n",
        "        size = sample_boxes_dimensions[i]\n",
        "        class_name = sample_detection_class[i]\n",
        "        ego_distance = float(np.linalg.norm(ego_translation - translation))\n",
        "    \n",
        "        \n",
        "        # Determine the rotation of the box\n",
        "        v = (sample_boxes[i,0] - sample_boxes[i,1])\n",
        "        v /= np.linalg.norm(v)\n",
        "        r = R.from_dcm([\n",
        "            [v[0], -v[1], 0],\n",
        "            [v[1],  v[0], 0],\n",
        "            [   0,     0, 1],\n",
        "        ])\n",
        "        quat = r.as_quat()\n",
        "        # XYZW -> WXYZ order of elements\n",
        "        quat = quat[[3,0,1,2]]\n",
        "        \n",
        "        detection_score = float(sample_detection_scores[i])\n",
        "\n",
        "        \n",
        "        box3d = Box3D(\n",
        "            sample_token=sample_token,\n",
        "            translation=list(translation),\n",
        "            size=list(size),\n",
        "            rotation=list(quat),\n",
        "            name=class_name,\n",
        "            score=detection_score\n",
        "        )\n",
        "        pred_box3ds.append(box3d)"
      ],
      "execution_count": 22,
      "outputs": [
        {
          "output_type": "display_data",
          "data": {
            "application/vnd.jupyter.widget-view+json": {
              "model_id": "be614db0275a4676b4c0a5c64f2d37d4",
              "version_minor": 0,
              "version_major": 2
            },
            "text/plain": [
              "HBox(children=(FloatProgress(value=0.0, max=7056.0), HTML(value='')))"
            ]
          },
          "metadata": {
            "tags": []
          }
        },
        {
          "output_type": "stream",
          "text": [
            "/usr/local/lib/python3.7/dist-packages/ipykernel_launcher.py:68: DeprecationWarning: `from_dcm` is deprecated!\n",
            "from_dcm is renamed to from_matrix in scipy 1.4.0 and will be removed in scipy 1.6.0\n"
          ],
          "name": "stderr"
        },
        {
          "output_type": "stream",
          "text": [
            "\n"
          ],
          "name": "stdout"
        }
      ]
    },
    {
      "cell_type": "code",
      "metadata": {
        "colab": {
          "base_uri": "https://localhost:8080/"
        },
        "id": "tTT-zmMFWQQ6",
        "outputId": "c518b318-52d8-4c2e-b181-aa496d5a55b0"
      },
      "source": [
        "len(pred_box3ds)"
      ],
      "execution_count": 33,
      "outputs": [
        {
          "output_type": "execute_result",
          "data": {
            "text/plain": [
              "192224"
            ]
          },
          "metadata": {
            "tags": []
          },
          "execution_count": 33
        }
      ]
    },
    {
      "cell_type": "code",
      "metadata": {
        "colab": {
          "base_uri": "https://localhost:8080/"
        },
        "id": "XCmcF7PJWi_8",
        "outputId": "be586c21-42d8-4fbe-c334-f938720ddfbf"
      },
      "source": [
        "len(gt_box3ds)"
      ],
      "execution_count": 34,
      "outputs": [
        {
          "output_type": "execute_result",
          "data": {
            "text/plain": [
              "214535"
            ]
          },
          "metadata": {
            "tags": []
          },
          "execution_count": 34
        }
      ]
    },
    {
      "cell_type": "code",
      "metadata": {
        "id": "EbS0PTHmWt7R"
      },
      "source": [
        "entries_gt=[]\n",
        "for i,data in enumerate(gt_box3ds):\n",
        "\n",
        "    sample_token = data.sample_token\n",
        "    translation = data.translation\n",
        "    size = data.size\n",
        "    rotation = data.rotation\n",
        "    name = data.name\n",
        "\n",
        "    entries_gt.append({\n",
        "    'sample_token': sample_token,\n",
        "    'translation': translation,\n",
        "    'size': size,\n",
        "    'rotation':rotation,\n",
        "    'name':name,\n",
        "    })"
      ],
      "execution_count": 60,
      "outputs": []
    },
    {
      "cell_type": "code",
      "metadata": {
        "id": "3XTTNO3kC9Qa"
      },
      "source": [
        "import json\n",
        "\n",
        "with open('gt.json', 'w') as outfile:\n",
        "    json.dump(entries_gt, outfile)"
      ],
      "execution_count": 61,
      "outputs": []
    },
    {
      "cell_type": "code",
      "metadata": {
        "id": "KCK3RiF2XJUp"
      },
      "source": [
        "entries=[]\n",
        "for i,data in enumerate(pred_box3ds):\n",
        "\n",
        "    sample_token = data.sample_token\n",
        "    translation = data.translation\n",
        "    size = data.size\n",
        "    rotation = data.rotation\n",
        "    name = data.name\n",
        "    score = data.score\n",
        "    entries.append({\n",
        "    'sample_token': sample_token,\n",
        "    'translation': translation,\n",
        "    'size': size,\n",
        "    'rotation':rotation,\n",
        "    'name':name,\n",
        "    'score':score\n",
        "    })"
      ],
      "execution_count": 55,
      "outputs": []
    },
    {
      "cell_type": "code",
      "metadata": {
        "id": "Xr87U7-LX0Mi"
      },
      "source": [
        "import json\n",
        "with open('pd.json', 'w') as outfile:\n",
        "    json.dump(entries, outfile)"
      ],
      "execution_count": 56,
      "outputs": []
    },
    {
      "cell_type": "code",
      "metadata": {
        "id": "UNygQIWQE5ba"
      },
      "source": [
        "with open('gt.json') as f:\n",
        "     predictions = json.load(f)"
      ],
      "execution_count": 62,
      "outputs": []
    },
    {
      "cell_type": "code",
      "metadata": {
        "colab": {
          "base_uri": "https://localhost:8080/"
        },
        "id": "WIWz3FEZFcXi",
        "outputId": "c629b102-baf7-427f-8eec-fcee6a7b4652"
      },
      "source": [
        "predictions[0]"
      ],
      "execution_count": 63,
      "outputs": [
        {
          "output_type": "execute_result",
          "data": {
            "text/plain": [
              "{'name': 'car',\n",
              " 'rotation': [-0.9675209171904255, 0, 0, 0.2527909705646106],\n",
              " 'sample_token': '000a9a9d3e9d06567b7a8e67d391d0e222b43fbdce6d85cf6b5a6f831c461e21',\n",
              " 'size': [1.946, 4.499, 1.938],\n",
              " 'translation': [1624.975491582343, 1336.6738388811511, -19.98370071613627]}"
            ]
          },
          "metadata": {
            "tags": []
          },
          "execution_count": 63
        }
      ]
    },
    {
      "cell_type": "code",
      "metadata": {
        "id": "-BhhPKkhGohU"
      },
      "source": [
        "!cp /content/gt.json /content/drive/Shareddrives/CMPE249\\ Project/Lyft/\n",
        "!cp /content/pd.json /content/drive/Shareddrives/CMPE249\\ Project/Lyft/"
      ],
      "execution_count": 64,
      "outputs": []
    },
    {
      "cell_type": "code",
      "metadata": {
        "colab": {
          "base_uri": "https://localhost:8080/"
        },
        "id": "FMRr3T5aEiiy",
        "outputId": "2b4d2260-a740-4bed-ce8d-98fe3c301977"
      },
      "source": [
        "!python evaluate.py --pred_file /content/pd.json --gt_file /content/gt.json --iou_threshold 0.5"
      ],
      "execution_count": 65,
      "outputs": [
        {
          "output_type": "stream",
          "text": [
            "Class_names =  ['animal', 'bicycle', 'bus', 'car', 'emergency_vehicle', 'motorcycle', 'other_vehicle', 'pedestrian', 'truck']\n",
            "Average per class mean average precision =  0.03141488064108405\n",
            "('animal', 0.0)\n",
            "('bicycle', 7.270428340314557e-05)\n",
            "('bus', 0.00016533260043605208)\n",
            "('car', 0.279614460868709)\n",
            "('emergency_vehicle', 0.0)\n",
            "('motorcycle', 0.0004329004329004329)\n",
            "('other_vehicle', 0.0023557422645982956)\n",
            "('pedestrian', 8.535851091023578e-05)\n",
            "('truck', 7.426808799283066e-06)\n"
          ],
          "name": "stdout"
        }
      ]
    }
  ]
}